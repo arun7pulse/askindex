{
  "nbformat": 4,
  "nbformat_minor": 0,
  "metadata": {
    "colab": {
      "name": "NIfty50Index.ipynb",
      "provenance": [],
      "private_outputs": true,
      "collapsed_sections": [
        "U0VOM7lDzQGV",
        "lAN4F9NczcSh",
        "Ha5ZVSHZzsKA"
      ],
      "authorship_tag": "ABX9TyO7hZ434uuB/qCb+fCFfeFg",
      "include_colab_link": true
    },
    "kernelspec": {
      "name": "python3",
      "display_name": "Python 3"
    }
  },
  "cells": [
    {
      "cell_type": "markdown",
      "metadata": {
        "id": "view-in-github",
        "colab_type": "text"
      },
      "source": [
        "<a href=\"https://colab.research.google.com/github/arun7pulse/askindex/blob/master/NIfty50Index.ipynb\" target=\"_parent\"><img src=\"https://colab.research.google.com/assets/colab-badge.svg\" alt=\"Open In Colab\"/></a>"
      ]
    },
    {
      "cell_type": "markdown",
      "metadata": {
        "id": "L1wdDYVq2xtY",
        "colab_type": "text"
      },
      "source": [
        "# **Install required Packages**"
      ]
    },
    {
      "cell_type": "code",
      "metadata": {
        "id": "-LAMaMCJ3ook",
        "colab_type": "code",
        "colab": {}
      },
      "source": [
        "%load_ext google.colab.data_table\n"
      ],
      "execution_count": null,
      "outputs": []
    },
    {
      "cell_type": "markdown",
      "metadata": {
        "id": "QR9QbsFT8wwA",
        "colab_type": "text"
      },
      "source": [
        "# **Import required library**"
      ]
    },
    {
      "cell_type": "code",
      "metadata": {
        "id": "bNCphWFv2-R4",
        "colab_type": "code",
        "colab": {}
      },
      "source": [
        "\"\"\" Author - ArunSK. #nsenifty.py \"\"\"\n",
        "import datetime\n",
        "import logging\n",
        "import sys, os, time, json\n",
        "import requests\n",
        "import sqlite3 as lite\n",
        "headers = {'User-Agent': 'Mozilla/5.0 (Macintosh; Intel Mac OS X 10_11_6) AppleWebKit/537.36 (KHTML, like Gecko) Chrome/61.0.3163.100 Safari/537.36','Accept-Encoding': 'gzip, deflate, br','Accept-Language': 'en-US,en;q=0.9,hi;q=0.8'}\n",
        "#import pymongo\n",
        "#from asklib import *\n",
        "#from pymongo.errors import BulkWriteError, ConnectionFailure\n",
        "\n",
        "import numpy as np  # Low-level numerical Python library.\n",
        "import pandas as pd  # Higher-level numerical Python library.\n",
        "import altair as alt\n",
        "\n",
        "np.warnings.filterwarnings('ignore')\n",
        "pd.set_option('expand_frame_repr', False)\n",
        "pd.set_option('display.precision', 4)\n",
        "pd.set_option('display.max_columns', 18)\n",
        "pd.set_option('display.max_rows', 40)\n",
        "pd.set_option('display.width', 15)\n",
        "pd.options.display.float_format = '{:.2f}'.format"
      ],
      "execution_count": null,
      "outputs": []
    },
    {
      "cell_type": "markdown",
      "metadata": {
        "id": "SBp1nbEWy_KS",
        "colab_type": "text"
      },
      "source": [
        "# **Required Functions**"
      ]
    },
    {
      "cell_type": "code",
      "metadata": {
        "id": "kg8nPJ2h-m0X",
        "colab_type": "code",
        "colab": {}
      },
      "source": [
        "def split_date_range(start, end, pdays=92):\n",
        "    firstDate = datetime.datetime.strptime(start, \"%d-%m-%Y\")\n",
        "    lastDate = datetime.datetime.strptime(end, \"%d-%m-%Y\")\n",
        "    startdate = firstDate\n",
        "    startdatelist = []\n",
        "    enddatelist = []\n",
        "    while startdate <= lastDate:\n",
        "        enddate = startdate + datetime.timedelta(days=pdays - 1)\n",
        "        startdatelist.append(startdate.strftime(\"%d-%m-%Y\"))\n",
        "        if enddate > lastDate: enddatelist.append(lastDate.strftime(\"%d-%m-%Y\"))\n",
        "        enddatelist.append(enddate.strftime(\"%d-%m-%Y\"))\n",
        "        startdate = enddate + datetime.timedelta(days=1)\n",
        "    for sdate, edate in zip(startdatelist, enddatelist):\n",
        "        yield sdate ,edate"
      ],
      "execution_count": null,
      "outputs": []
    },
    {
      "cell_type": "code",
      "metadata": {
        "id": "1AN-WiUU-q6M",
        "colab_type": "code",
        "colab": {}
      },
      "source": [
        "def csvIndexData(symbol=\"NIFTY 50\", file=\"\"):\n",
        "    file='{}_01-01-2000_31-12-2019.csv'.format(symbol) if file == \"\" else file\n",
        "    if symbol == \"NIFTY 50\"  :\n",
        "        file = \"https://raw.githubusercontent.com/arun7pulse/askindex/master/NIFTY%2050_01-01-2000_31-12-2019.csv\"       \n",
        "        file = \"https://raw.githubusercontent.com/arun7pulse/askindex/master/NIFTY%2050.csv\"       \n",
        "    if symbol == \"NIFTY BANK\":\n",
        "        file = \"https://raw.githubusercontent.com/arun7pulse/askindex/master/NIFTY%20BANK_01-01-2000_31-12-2019.csv\"\n",
        "        file = \"https://raw.githubusercontent.com/arun7pulse/askindex/master/NIFTY%20BANK.csv\"\n",
        "    df = pd.read_csv(file, parse_dates=True, index_col='date', dayfirst=True, error_bad_lines=False).replace(\"-\", method='bfill')\n",
        "    df =df.astype({\"symbol\": \"category\", \"open\": \"float64\", \"high\": \"float64\", \"low\": \"float64\", \"close\": \"float64\", \"volume\": \"float64\", \"value\": \"float64\"} )\n",
        "    return df\n",
        "\n",
        "def getIndexData(symbol=\"NIFTY 50\", start=(datetime.datetime.today().date()-datetime.timedelta(days=99)).strftime('%d-%m-%Y'), end=(datetime.datetime.today().date()).strftime('%d-%m-%Y')):\n",
        "    if start != end:\n",
        "        url1 = \"https://www1.nseindia.com/products/dynaContent/equities/indices/historicalindices.jsp?indexType=\"\n",
        "        url2 = symbol.replace(\" \" , \"%20\").replace(\"&\", \"%26\").upper()\n",
        "        url3 = \"&fromDate=\" + start + \"&toDate=\" + end\n",
        "        url = url1+url2+url3\n",
        "        print(url)\n",
        "        try:\n",
        "            response = requests.get(url, headers=headers)\n",
        "            if response.status_code == 200:\n",
        "                dat = pd.read_html(response.text, header=2)\n",
        "                df = pd.DataFrame.from_records(dat[0], index='Date')\n",
        "                df.index.names = ['date']\n",
        "                df = df[:-1]\n",
        "                df = df.dropna(axis='rows')\n",
        "                df.rename(columns={'Open': 'open','High' : 'high', 'Low' : 'low', 'Close' : 'close', 'Shares Traded' : 'volume', 'Turnover ( Cr)' : 'value'}, inplace=True)\n",
        "                df['symbol'] = symbol\n",
        "                df.index = pd.to_datetime(df.index)\n",
        "                df.sort_index(inplace=True)\n",
        "                return df\n",
        "        except : \n",
        "            return None\n",
        "    print(\"start date and end date is same\")\n",
        "    return None\n",
        "\n",
        "def getIndexFullData(symbol='NIFTY 50', start='01-01-2015', end=(datetime.datetime.today().date()).strftime('%d-%m-%Y')):\n",
        "    idx = pd.DataFrame()\n",
        "    idx = idx.append(csvIndexData(symbol=symbol))\n",
        "    start = (idx.index.max()+datetime.timedelta(days=1)).strftime('%d-%m-%Y')\n",
        "    for sdate, edate in split_date_range(start, end):\n",
        "        print(symbol, sdate, edate)\n",
        "        import time\n",
        "        time.sleep(0.01)\n",
        "        df = getIndexData(symbol=symbol, start=sdate, end=edate)\n",
        "        idx = idx.append(df, verify_integrity=True)\n",
        "    try:\n",
        "        idx.to_csv(\"{}.csv\".format(symbol, start, end))\n",
        "    except :\n",
        "        pass\n",
        "    try:\n",
        "        idx = idx.replace(\"-\", method='bfill')\n",
        "        idx = idx.astype({\"symbol\": \"category\", \"open\": \"float64\", \"high\": \"float64\", \"low\": \"float64\", \"close\": \"float64\", \"volume\": \"float64\", \"value\": \"float64\"} )\n",
        "    except:\n",
        "        pass\n",
        "    return idx"
      ],
      "execution_count": null,
      "outputs": []
    },
    {
      "cell_type": "markdown",
      "metadata": {
        "id": "U0VOM7lDzQGV",
        "colab_type": "text"
      },
      "source": [
        "# **Index Class Object**"
      ]
    },
    {
      "cell_type": "code",
      "metadata": {
        "id": "YH2BJ4cY-si0",
        "colab_type": "code",
        "colab": {}
      },
      "source": [
        "class Indices(object):\n",
        "    def __init__(self, symbol=\"NIFTY 50\", db='.askindex.db'):\n",
        "        self.conn = lite.connect(db)\n",
        "        self.cur = self.conn.cursor()\n",
        "        self.symbol = symbol\n",
        "    def load_data(self):\n",
        "        self.df = getIndexFullData(symbol=self.symbol)\n",
        "        self.df.to_sql(self.symbol, self.conn, if_exists='replace')\n",
        "        self.dff = self.df.drop('symbol', axis=1)\n",
        "    def df_frequency(self, sample='W-THU'):\n",
        "        self.dfw = self.df.resample(sample, label='right').agg({'open':'first', 'high':'max','low':'min','close':'last', 'volume':'sum', 'value':'sum'})\n",
        "        self.dfwm = self.dfw.resample(\"BM\", label='right').agg({'open':'first', 'high':'max','low':'min','close':'last', 'volume':'sum', 'value':'sum'})\n",
        "        nesample = \"W-FRI\"\n",
        "        self.dfwf = self.df.resample(nesample, label='right').agg({'open':'first', 'high':'max','low':'min','close':'last', 'volume':'sum', 'value':'sum'})\n",
        "        self.dfwfm = self.dfwf.resample(\"BM\", label='right').agg({'open':'first', 'high':'max','low':'min','close':'last', 'volume':'sum', 'value':'sum'})\n",
        "    def change(self):\n",
        "        self.dfwp = (self.dfw.pct_change()*100)[2:]\n",
        "        self.dfwmp = (self.dfwm.pct_change()*100)[2:]\n",
        "        self.dfw_target = self.dfwp\n",
        "        self.dfwm_target = self.dfwmp "
      ],
      "execution_count": null,
      "outputs": []
    },
    {
      "cell_type": "markdown",
      "metadata": {
        "id": "lAN4F9NczcSh",
        "colab_type": "text"
      },
      "source": [
        "# **Create Instance For Index Symbol**"
      ]
    },
    {
      "cell_type": "code",
      "metadata": {
        "id": "gcZTIcfs-2HD",
        "colab_type": "code",
        "colab": {}
      },
      "source": [
        "nf = Indices()\n",
        "bf = Indices(symbol = \"NIFTY BANK\")"
      ],
      "execution_count": null,
      "outputs": []
    },
    {
      "cell_type": "markdown",
      "metadata": {
        "id": "oFecnd41zhbw",
        "colab_type": "text"
      },
      "source": [
        "# **Load Data from History and from NSE Site**"
      ]
    },
    {
      "cell_type": "markdown",
      "metadata": {
        "id": "Ha5ZVSHZzsKA",
        "colab_type": "text"
      },
      "source": [
        "## **NIFTY Insights for Weekly/Monthly for Option Writing**"
      ]
    },
    {
      "cell_type": "code",
      "metadata": {
        "id": "u8a09sbt6OLE",
        "colab_type": "code",
        "colab": {}
      },
      "source": [
        "nff = csvIndexData()\n",
        "print(nff.tail(10))\n",
        "alt.Chart(nff.tail(2000).reset_index()).mark_line().encode(\n",
        "  x='date:T',\n",
        "  y='close',\n",
        "  color='symbol'\n",
        ").interactive(bind_y=False)\n"
      ],
      "execution_count": null,
      "outputs": []
    },
    {
      "cell_type": "code",
      "metadata": {
        "id": "lmXrQoM1_1KR",
        "colab_type": "code",
        "colab": {}
      },
      "source": [
        "nf.df = nff['2010-01-01':]\n",
        "nf.df_frequency()\n",
        "nf.change()\n",
        "print(nf.dfw.tail(10))\n",
        "\n",
        "alt.Chart(nf.dfw.tail(2000).reset_index()).mark_line().encode(\n",
        "  x='date:T',\n",
        "  y='close'\n",
        ").interactive(bind_y=False)"
      ],
      "execution_count": null,
      "outputs": []
    },
    {
      "cell_type": "code",
      "metadata": {
        "id": "Hn_nMkOPtkI1",
        "colab_type": "code",
        "cellView": "both",
        "colab": {}
      },
      "source": [
        "#@title NIFTY Weekly(Thu) - Upside/Downside Distribution\n",
        "UpSidePercent = 98  #@param {type: \"slider\", min: 0, max: 100}\n",
        "dwp_upvalue=nf.dfwp[nf.dfwp['close'] > 0 ]['close'].quantile(UpSidePercent/100)\n",
        "print(\"\\nUPSide Distribution\", dwp_upvalue)\n",
        "DownSidePercent = 98  #@param {type: \"slider\", min: 0, max: 100}\n",
        "dwp_downvalue = nf.dfwp[nf.dfwp['close'] < 0 ]['close'].quantile((1-DownSidePercent/100))\n",
        "print(\"\\nDownSide Distribution\", dwp_downvalue)\n",
        "alt.Chart(nf.dfwp).mark_bar().encode(\n",
        "  x=alt.X('close', bin=True),\n",
        "  y='count()',\n",
        ")\n",
        "\n"
      ],
      "execution_count": null,
      "outputs": []
    },
    {
      "cell_type": "code",
      "metadata": {
        "id": "ZiRit33WubkS",
        "colab_type": "code",
        "colab": {}
      },
      "source": [
        "#@title NIFTY Monthly(Thu) - Upside/Downside Distribution\n",
        "UpSidePercent = 98  #@param {type: \"slider\", min: 0, max: 100}\n",
        "print(\"\\nUPSide Distribution\", nf.dfwmp[nf.dfwmp['close'] > 0 ]['close'].quantile(UpSidePercent/100))\n",
        "DownSidePercent = 98  #@param {type: \"slider\", min: 0, max: 100}\n",
        "print(\"\\nDownSide Distribution\", nf.dfwmp[nf.dfwmp['close'] < 0 ]['close'].quantile((1-DownSidePercent/100)))\n",
        "print(\"\\n\")\n",
        "alt.Chart(nf.dfwmp).mark_bar().encode(\n",
        "  x=alt.X('close', bin=True),\n",
        "  y='count()',\n",
        ")"
      ],
      "execution_count": null,
      "outputs": []
    },
    {
      "cell_type": "markdown",
      "metadata": {
        "colab_type": "text",
        "id": "kWPCqsVR-sXQ"
      },
      "source": [
        "## **NIFTY BANK Insights for Weekly/Monthly for Option Writing**"
      ]
    },
    {
      "cell_type": "code",
      "metadata": {
        "id": "xIseVLmf_lNx",
        "colab_type": "code",
        "colab": {}
      },
      "source": [
        "bff = csvIndexData(\"NIFTY BANK\")\n",
        "print(bff.tail(10))\n",
        "alt.Chart(bff.tail(2000).reset_index()).mark_line().encode(\n",
        "  x='date:T',\n",
        "  y='close',\n",
        "  color='symbol'\n",
        ").interactive(bind_y=False)"
      ],
      "execution_count": null,
      "outputs": []
    },
    {
      "cell_type": "code",
      "metadata": {
        "id": "xkIks0bysgOB",
        "colab_type": "code",
        "colab": {}
      },
      "source": [
        "bf.df = bff['2010-01-01':]\n",
        "bf.df_frequency()\n",
        "bf.change()\n",
        "print(bf.dfw.tail(10))\n",
        "\n",
        "alt.Chart(bf.dfw.tail(2000).reset_index()).mark_line().encode(\n",
        "  x='date:T',\n",
        "  y='close'\n",
        ").interactive(bind_y=False)"
      ],
      "execution_count": null,
      "outputs": []
    },
    {
      "cell_type": "code",
      "metadata": {
        "colab_type": "code",
        "cellView": "both",
        "id": "5RxWbcHF-xar",
        "colab": {}
      },
      "source": [
        "#@title NIFTY BANK Weekly(Thu) - Upside/Downside Distribution\n",
        "UpSidePercent = 90  #@param {type: \"slider\", min: 0, max: 100}\n",
        "dwp_upvalue=bf.dfwp[bf.dfwp['close'] > 0 ]['close'].quantile(UpSidePercent/100)\n",
        "print(\"\\nUPSide Distribution\", dwp_upvalue)\n",
        "DownSidePercent = 90  #@param {type: \"slider\", min: 0, max: 100}\n",
        "dwp_downvalue = bf.dfwp[bf.dfwp['close'] < 0 ]['close'].quantile((1-DownSidePercent/100))\n",
        "print(\"\\nDownSide Distribution\", dwp_downvalue)\n",
        "alt.Chart(bf.dfwp).mark_bar().encode(\n",
        "  x=alt.X('close', bin=True),\n",
        "  y='count()',\n",
        ")\n",
        "\n"
      ],
      "execution_count": null,
      "outputs": []
    },
    {
      "cell_type": "code",
      "metadata": {
        "colab_type": "code",
        "id": "j76aPAU6-656",
        "colab": {}
      },
      "source": [
        "#@title NIFTY BANK Monthly(Thu) - Upside/Downside Distribution\n",
        "UpSidePercent = 90  #@param {type: \"slider\", min: 0, max: 100}\n",
        "print(\"\\nUPSide Distribution\", bf.dfwmp[bf.dfwmp['close'] > 0 ]['close'].quantile(UpSidePercent/100))\n",
        "DownSidePercent = 90  #@param {type: \"slider\", min: 0, max: 100}\n",
        "print(\"\\nDownSide Distribution\", bf.dfwmp[bf.dfwmp['close'] < 0 ]['close'].quantile((1-DownSidePercent/100)))\n",
        "print(\"\\n\")\n",
        "alt.Chart(bf.dfwmp).mark_bar().encode(\n",
        "  x=alt.X('close', bin=True),\n",
        "  y='count()',\n",
        ")\n"
      ],
      "execution_count": null,
      "outputs": []
    }
  ]
}