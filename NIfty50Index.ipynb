{
  "nbformat": 4,
  "nbformat_minor": 0,
  "metadata": {
    "colab": {
      "name": "NIfty50Index.ipynb",
      "provenance": [],
      "private_outputs": true,
      "collapsed_sections": [
        "U0VOM7lDzQGV",
        "lAN4F9NczcSh",
        "Ha5ZVSHZzsKA"
      ],
      "authorship_tag": "ABX9TyO7mkL+l9CxDyrs5XdlD3ME",
      "include_colab_link": true
    },
    "kernelspec": {
      "name": "python3",
      "display_name": "Python 3"
    }
  },
  "cells": [
    {
      "cell_type": "markdown",
      "metadata": {
        "id": "view-in-github",
        "colab_type": "text"
      },
      "source": [
        "<a href=\"https://colab.research.google.com/github/arun7pulse/askindex/blob/master/NIfty50Index.ipynb\" target=\"_parent\"><img src=\"https://colab.research.google.com/assets/colab-badge.svg\" alt=\"Open In Colab\"/></a>"
      ]
    },
    {
      "cell_type": "markdown",
      "metadata": {
        "id": "L1wdDYVq2xtY",
        "colab_type": "text"
      },
      "source": [
        "# **Install required Packages**"
      ]
    },
    {
      "cell_type": "code",
      "metadata": {
        "id": "-LAMaMCJ3ook",
        "colab_type": "code",
        "colab": {}
      },
      "source": [
        "%load_ext google.colab.data_table\n",
        "import altair as alt"
      ],
      "execution_count": null,
      "outputs": []
    },
    {
      "cell_type": "markdown",
      "metadata": {
        "id": "QR9QbsFT8wwA",
        "colab_type": "text"
      },
      "source": [
        "# **Import required library**"
      ]
    },
    {
      "cell_type": "code",
      "metadata": {
        "id": "bNCphWFv2-R4",
        "colab_type": "code",
        "colab": {}
      },
      "source": [
        "#Author ArunSK.\n",
        "import os\n",
        "import datetime\n",
        "import logging\n",
        "import requests\n",
        "import pandas as pd  # Higher-level numerical Python library.\n",
        "import numpy as np  # Low-level numerical Python library.\n",
        "\n",
        "headers = {'User-Agent': 'Mozilla/5.0 (Macintosh; Intel Mac OS X 10_11_6) AppleWebKit/537.36 (KHTML, like Gecko) Chrome/61.0.3163.100 Safari/537.36',\n",
        "           'Accept-Encoding': 'gzip, deflate, br', 'Accept-Language': 'en-US,en;q=0.9,hi;q=0.8'}\n",
        "\n",
        "np.warnings.filterwarnings('ignore')\n",
        "pd.set_option('expand_frame_repr', False)\n",
        "pd.set_option('display.precision', 4)\n",
        "pd.set_option('display.max_columns', 18)\n",
        "pd.set_option('display.max_rows', 40)\n",
        "pd.set_option('display.width', 15)\n",
        "pd.options.display.float_format = '{:.2f}'.format\n",
        "\n",
        "# CRITICAL\t50 ERROR\t40 WARNING\t30 INFO\t20 DEBUG\t10\n",
        "try:\n",
        "    LOGFILE = \"{}.log\".format(os.path.basename(__file__))\n",
        "    logging.basicConfig(level=logging.INFO, filename=LOGFILE, filemode='a')\n",
        "    rootLogger = logging.getLogger()\n",
        "    logFormatter = logging.Formatter(\"%(asctime)s %(name)s [%(threadName)-12.12s] [%(levelname)-5.5s] %(message)s\")\n",
        "    fileHandler = logging.FileHandler(LOGFILE)\n",
        "    fileHandler.setFormatter(logFormatter)\n",
        "    rootLogger.addHandler(fileHandler)\n",
        "except NameError:\n",
        "    pass"
      ],
      "execution_count": null,
      "outputs": []
    },
    {
      "cell_type": "markdown",
      "metadata": {
        "id": "SBp1nbEWy_KS",
        "colab_type": "text"
      },
      "source": [
        "# **Required Functions**"
      ]
    },
    {
      "cell_type": "code",
      "metadata": {
        "id": "kg8nPJ2h-m0X",
        "colab_type": "code",
        "colab": {}
      },
      "source": [
        "def last_thursday():\n",
        "    today = datetime.datetime.today().date()\n",
        "    offset = (today.weekday() - 3) % 7\n",
        "    return today - datetime.timedelta(days=offset)\n",
        "    \n",
        "def split_date_range(start, end, pdays=92):\n",
        "    firstDate = datetime.datetime.strptime(start, \"%d-%m-%Y\")\n",
        "    lastDate = datetime.datetime.strptime(end, \"%d-%m-%Y\")\n",
        "    startdate = firstDate\n",
        "    startdatelist = []\n",
        "    enddatelist = []\n",
        "    while startdate <= lastDate:\n",
        "        enddate = startdate + datetime.timedelta(days=pdays - 1)\n",
        "        startdatelist.append(startdate.strftime(\"%d-%m-%Y\"))\n",
        "        if enddate > lastDate:\n",
        "            enddatelist.append(lastDate.strftime(\"%d-%m-%Y\"))\n",
        "        enddatelist.append(enddate.strftime(\"%d-%m-%Y\"))\n",
        "        startdate = enddate + datetime.timedelta(days=1)\n",
        "    for sdate, edate in zip(startdatelist, enddatelist):\n",
        "        yield sdate, edate"
      ],
      "execution_count": null,
      "outputs": []
    },
    {
      "cell_type": "code",
      "metadata": {
        "id": "1AN-WiUU-q6M",
        "colab_type": "code",
        "colab": {}
      },
      "source": [
        "def get_hist_index_data(symbol=\"NIFTY 50\"):\n",
        "    if symbol.upper() == \"NIFTY 50\":\n",
        "        # file = \"https://raw.githubusercontent.com/arun7pulse/askindex/master/NIFTY%2050_01-01-2000_31-12-2019.csv\"\n",
        "        file = \"https://raw.githubusercontent.com/arun7pulse/askindex/master/NIFTY%2050.csv\"\n",
        "    if symbol.upper() == \"NIFTY BANK\":\n",
        "        # file = \"https://raw.githubusercontent.com/arun7pulse/askindex/master/NIFTY%20BANK_01-01-2000_31-12-2019.csv\"\n",
        "        file = \"https://raw.githubusercontent.com/arun7pulse/askindex/master/NIFTY%20BANK.csv\"\n",
        "    df = pd.read_csv(file, parse_dates=True, index_col='date',\n",
        "                     dayfirst=True, error_bad_lines=False).replace(\"-\", method='bfill')\n",
        "    df = df.astype({\"symbol\": \"category\", \"open\": \"float64\", \"high\": \"float64\",\n",
        "                    \"low\": \"float64\", \"close\": \"float64\", \"volume\": \"float64\", \"value\": \"float64\"})\n",
        "    return df\n",
        "\n",
        "def get_daily_index_data(symbol=\"NIFTY 50\", start=None, end=None):\n",
        "    end = (datetime.datetime.today().date()).strftime('%d-%m-%Y') if end == None else end\n",
        "    start = (datetime.datetime.today().date()-datetime.timedelta(days=99)).strftime('%d-%m-%Y') if start ==  None else start\n",
        "    if start != end:\n",
        "        url1 = \"https://www1.nseindia.com/products/dynaContent/equities/indices/historicalindices.jsp?indexType=\"\n",
        "        url2 = symbol.replace(\" \", \"%20\").replace(\"&\", \"%26\").upper()\n",
        "        url3 = \"&fromDate=\" + start + \"&toDate=\" + end\n",
        "        url = url1+url2+url3\n",
        "        print(url)\n",
        "        try:\n",
        "            response = requests.get(url, headers=headers)\n",
        "            if response.status_code == 200:\n",
        "                dat = pd.read_html(response.text, header=2)\n",
        "                df = pd.DataFrame.from_records(dat[0], index='Date')\n",
        "                df.index.names = ['date']\n",
        "                df = df[:-1]\n",
        "                df = df.dropna(axis='rows')\n",
        "                df.rename(columns={'Open': 'open', 'High': 'high', 'Low': 'low', 'Close': 'close', 'Shares Traded': 'volume', 'Turnover ( Cr)': 'value'}, inplace=True)\n",
        "                df['symbol'] = symbol\n",
        "                df.index = pd.to_datetime(df.index)\n",
        "                df.sort_index(inplace=True)\n",
        "                return df\n",
        "        except:\n",
        "            return None\n",
        "    print(\"start date and end date is same\")\n",
        "    return None\n",
        "\n",
        "def get_all_index_data(symbol='NIFTY 50', start='01-01-2010', end=(datetime.datetime.today().date()).strftime('%d-%m-%Y')):\n",
        "    idx = pd.DataFrame()\n",
        "    idx = idx.append(get_hist_index_data(symbol=symbol))\n",
        "    # if idx.index[-1].values \n",
        "    start = (idx.index.max()+datetime.timedelta(days=1)).strftime('%d-%m-%Y')\n",
        "    for sdate, edate in split_date_range(start, end):\n",
        "        print(\"Loading Index Data :\", symbol, sdate, edate)\n",
        "        df = get_daily_index_data(symbol=symbol, start=sdate, end=edate)\n",
        "        idx = idx.append(df, verify_integrity=True)\n",
        "    try:\n",
        "        idx = idx.replace(\"-\", method='bfill')\n",
        "        idx = idx.astype({\"symbol\": \"category\", \"open\": \"float64\", \"high\": \"float64\", \"low\": \"float64\", \"close\": \"float64\", \"volume\": \"float64\", \"value\": \"float64\"})\n",
        "    except:\n",
        "        pass\n",
        "    idx.to_csv(\"{}.csv\".format(symbol))\n",
        "    return idx\n",
        "\n",
        "def dataframe_target(df, top_percent=5):\n",
        "    df['ltgt'] = ((1 + round((df[df['high_pct'] < 0].quantile(0.05)['high_pct'])/100, 4)) * df['close'].shift()).fillna(method='bfill')\n",
        "    df['utgt'] = ((1 + round((df[df['low_pct'] > 0].quantile(0.95)['low_pct'])/100, 4)) * df['close'].shift()).fillna(method='bfill')\n",
        "    df['stat'] = df['close'].between(df['ltgt'], df['utgt'], inclusive=False)\n",
        "    df['miss'] = np.where(df['stat'] == False, np.where(df['utgt'] < df['close'], round(df['close'] - df['utgt'], 2), round(df['close'] - df['ltgt'], 2)), \"PROFIT\")\n",
        "    return df "
      ],
      "execution_count": null,
      "outputs": []
    },
    {
      "cell_type": "markdown",
      "metadata": {
        "id": "U0VOM7lDzQGV",
        "colab_type": "text"
      },
      "source": [
        "# **Index Class Object**"
      ]
    },
    {
      "cell_type": "code",
      "metadata": {
        "id": "YH2BJ4cY-si0",
        "colab_type": "code",
        "colab": {}
      },
      "source": [
        "class Indices(object):\n",
        "    def __init__(self, symbol=\"NIFTY 50\"): # OR \"NIFTY BANK\"\n",
        "        self.symbol = symbol\n",
        "        self.load_histdata()\n",
        "\n",
        "    def load_histdata(self):\n",
        "        self.dff = get_hist_index_data(symbol=self.symbol)\n",
        "        self.df = self.dff.drop('symbol', axis=1)\n",
        "        self.calc_frequency()\n",
        "        \n",
        "    def load_livedata(self):\n",
        "        self.dff = get_all_index_data(symbol=self.symbol)\n",
        "        self.df = self.dff.drop('symbol', axis=1)\n",
        "        self.calc_frequency()\n",
        "\n",
        "    def calc_frequency(self, sample='W-THU'):\n",
        "        self.df = self.df.join((self.df.pct_change()*100), rsuffix='_pct').fillna(method='bfill')\n",
        "        ohlcvv = {'open': 'first', 'high': 'max', 'low': 'min', 'close': 'last', 'volume': 'sum', 'value': 'sum'}\n",
        "        #Weekly Data Based on Thursday \n",
        "        self.dfw = self.df.resample(sample, label='right').agg(ohlcvv)\n",
        "        self.dfwm = self.dfw.resample(\"BM\", label='right').agg(ohlcvv)\n",
        "        self.dfw = self.dfw.join((self.dfw.pct_change()*100), rsuffix='_pct').fillna(method='bfill')\n",
        "        self.dfwm = self.dfwm.join((self.dfwm.pct_change()*100), rsuffix='_pct').fillna(method='bfill')\n",
        "        #Weekly Data Based on Friday\n",
        "        nesample = \"W-FRI\"\n",
        "        self.dfwf = self.df.resample(nesample, label='right').agg(ohlcvv)\n",
        "        self.dfwfm = self.dfwf.resample(\"BM\", label='right').agg(ohlcvv)\n",
        "        self.dfwf = self.dfwf.join((self.dfwf.pct_change()*100), rsuffix='_pct').fillna(method='bfill')\n",
        "        self.dfwfm = self.dfwfm.join((self.dfwfm.pct_change()*100), rsuffix='_pct').fillna(method='bfill')\n",
        "        self.calc_targets()\n",
        "        \n",
        "    def calc_targets(self):\n",
        "        self.df = dataframe_target(self.df)\n",
        "        self.dfw = dataframe_target(self.dfw)\n",
        "        self.dfwm = dataframe_target(self.dfwm)\n",
        "        self.dfwf = dataframe_target(self.dfwf)\n",
        "        self.dfwfm = dataframe_target(self.dfwfm)"
      ],
      "execution_count": null,
      "outputs": []
    },
    {
      "cell_type": "markdown",
      "metadata": {
        "id": "lAN4F9NczcSh",
        "colab_type": "text"
      },
      "source": [
        "# **Create Instance For Index Symbol**"
      ]
    },
    {
      "cell_type": "code",
      "metadata": {
        "id": "gcZTIcfs-2HD",
        "colab_type": "code",
        "colab": {}
      },
      "source": [
        "if __name__ == '__main__':\n",
        "    nf = Indices(symbol=\"NIFTY 50\")\n",
        "    bf = Indices(symbol=\"NIFTY BANK\")"
      ],
      "execution_count": null,
      "outputs": []
    },
    {
      "cell_type": "markdown",
      "metadata": {
        "id": "oFecnd41zhbw",
        "colab_type": "text"
      },
      "source": [
        "# **Load Data from History and from NSE Site**"
      ]
    },
    {
      "cell_type": "markdown",
      "metadata": {
        "id": "Ha5ZVSHZzsKA",
        "colab_type": "text"
      },
      "source": [
        "## **NIFTY Insights for Weekly/Monthly for Option Writing**"
      ]
    },
    {
      "cell_type": "code",
      "metadata": {
        "id": "u8a09sbt6OLE",
        "colab_type": "code",
        "colab": {}
      },
      "source": [
        "df = nf.df\n",
        "dfw = nf.dfw\n",
        "dfwm = nf.dfwm\n",
        "\n",
        "print(df.tail(7))\n",
        "alt.Chart(df.tail(2000).reset_index()).mark_line().encode(\n",
        "  x='date:T',\n",
        "  y='close'\n",
        ").interactive(bind_y=False)\n"
      ],
      "execution_count": null,
      "outputs": []
    },
    {
      "cell_type": "code",
      "metadata": {
        "id": "lmXrQoM1_1KR",
        "colab_type": "code",
        "colab": {}
      },
      "source": [
        "print(dfw.tail(7))\n",
        "alt.Chart(dfw.tail(2000).reset_index()).mark_line().encode(\n",
        "  x='date:T',\n",
        "  y='close'\n",
        ").interactive(bind_y=False)"
      ],
      "execution_count": null,
      "outputs": []
    },
    {
      "cell_type": "code",
      "metadata": {
        "id": "Hn_nMkOPtkI1",
        "colab_type": "code",
        "cellView": "both",
        "colab": {}
      },
      "source": [
        "#@title NIFTY Weekly(Thu) - Upside/Downside Distribution\n",
        "UpPercent = 97  #@param {type: \"slider\", min: 0, max: 100}\n",
        "upval=dfw[dfw['close_pct'] > 0 ]['close_pct'].quantile(UpPercent/100)\n",
        "print(\"\\nUPSide Distribution\", upval)\n",
        "DownPercent = 97  #@param {type: \"slider\", min: 0, max: 100}\n",
        "downval = dfw[dfw['close_pct'] < 0 ]['close_pct'].quantile((1-DownPercent/100))\n",
        "print(\"\\nDownSide Distribution\", downval)\n",
        "alt.Chart(dfw).mark_bar().encode( x=alt.X('close_pct', bin=True),  y='count()',)"
      ],
      "execution_count": null,
      "outputs": []
    },
    {
      "cell_type": "code",
      "metadata": {
        "id": "ZiRit33WubkS",
        "colab_type": "code",
        "colab": {}
      },
      "source": [
        "#@title NIFTY Monthly(Thu) - Upside/Downside Distribution\n",
        "UpPercent = 97  #@param {type: \"slider\", min: 0, max: 100}\n",
        "upval=dfwm[dfwm['close_pct'] > 0 ]['close_pct'].quantile(UpPercent/100)\n",
        "print(\"\\nUPSide Distribution\", upval)\n",
        "DownPercent = 97  #@param {type: \"slider\", min: 0, max: 100}\n",
        "downval = dfwm[dfwm['close_pct'] < 0 ]['close_pct'].quantile((1-DownPercent/100))\n",
        "print(\"\\nDownSide Distribution\", downval)\n",
        "alt.Chart(dfwm).mark_bar().encode( x=alt.X('close_pct', bin=True),  y='count()',)"
      ],
      "execution_count": null,
      "outputs": []
    },
    {
      "cell_type": "markdown",
      "metadata": {
        "colab_type": "text",
        "id": "kWPCqsVR-sXQ"
      },
      "source": [
        "## **NIFTY BANK Insights for Weekly/Monthly for Option Writing**"
      ]
    },
    {
      "cell_type": "code",
      "metadata": {
        "id": "xIseVLmf_lNx",
        "colab_type": "code",
        "colab": {}
      },
      "source": [
        "df = bf.df\n",
        "dfw = bf.dfw\n",
        "dfwm = bf.dfwm\n",
        "\n",
        "print(df.tail(7))\n",
        "alt.Chart(df.tail(2000).reset_index()).mark_line().encode(\n",
        "  x='date:T',\n",
        "  y='close'\n",
        ").interactive(bind_y=False)"
      ],
      "execution_count": null,
      "outputs": []
    },
    {
      "cell_type": "code",
      "metadata": {
        "id": "xkIks0bysgOB",
        "colab_type": "code",
        "colab": {}
      },
      "source": [
        "print(dfw.tail(7))\n",
        "alt.Chart(dfw.tail(2000).reset_index()).mark_line().encode(\n",
        "  x='date:T',\n",
        "  y='close'\n",
        ").interactive(bind_y=False)"
      ],
      "execution_count": null,
      "outputs": []
    },
    {
      "cell_type": "code",
      "metadata": {
        "colab_type": "code",
        "cellView": "both",
        "id": "5RxWbcHF-xar",
        "colab": {}
      },
      "source": [
        "#@title NIFTY BANK Weekly(Thu) - Upside/Downside Distribution\n",
        "UpPercent = 97  #@param {type: \"slider\", min: 0, max: 100}\n",
        "upval=dfw[dfw['close_pct'] > 0 ]['close_pct'].quantile(UpPercent/100)\n",
        "print(\"\\nUPSide Distribution\", upval)\n",
        "DownPercent = 97  #@param {type: \"slider\", min: 0, max: 100}\n",
        "downval = dfw[dfw['close_pct'] < 0 ]['close_pct'].quantile((1-DownPercent/100))\n",
        "print(\"\\nDownSide Distribution\", downval)\n",
        "alt.Chart(dfw).mark_bar().encode( x=alt.X('close_pct', bin=True),  y='count()',)\n",
        "\n"
      ],
      "execution_count": null,
      "outputs": []
    },
    {
      "cell_type": "code",
      "metadata": {
        "colab_type": "code",
        "id": "j76aPAU6-656",
        "colab": {}
      },
      "source": [
        "#@title NIFTY BANK Monthly(Thu) - Upside/Downside Distribution\n",
        "UpPercent = 97  #@param {type: \"slider\", min: 0, max: 100}\n",
        "upval=dfwm[dfwm['close_pct'] > 0 ]['close_pct'].quantile(UpPercent/100)\n",
        "print(\"\\nUPSide Distribution\", upval)\n",
        "DownPercent = 97  #@param {type: \"slider\", min: 0, max: 100}\n",
        "downval = dfwm[dfwm['close_pct'] < 0 ]['close_pct'].quantile((1-DownPercent/100))\n",
        "print(\"\\nDownSide Distribution\", downval)\n",
        "alt.Chart(dfwm).mark_bar().encode( x=alt.X('close_pct', bin=True),  y='count()',)\n"
      ],
      "execution_count": null,
      "outputs": []
    }
  ]
}